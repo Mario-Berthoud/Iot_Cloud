{
 "cells": [
  {
   "cell_type": "code",
   "execution_count": null,
   "metadata": {},
   "outputs": [],
   "source": [
    "%pip install fastapi \n",
    "%pip install influxdb_client\n",
    "%pip install minio"
   ]
  },
  {
   "cell_type": "code",
   "execution_count": 54,
   "metadata": {},
   "outputs": [],
   "source": [
    "from base import LocalGateway, base_logger, PeriodicTrigger, BaseEventFabric, ExampleEventFabric\n",
    "\n",
    "from influxdb_client import InfluxDBClient\n",
    "from fastapi import FastAPI, Request\n",
    "from datetime import datetime, timedelta\n",
    "from minio import Minio\n",
    "from io import BytesIO\n",
    "import pandas as pd\n",
    "\n",
    "# -------------------------- CONFIGURATION --------------------------\n",
    "\n",
    "# InfluxDB credentials and database details\n",
    "INFLUX_TOKEN = \"http://192.168.1.132:8086\"\n",
    "INFLUX_ORG = \"wise2024\"\n",
    "INFLUX_USER = \"admin\"\n",
    "INFLUX_PASS = \"secure_influx_iot_user\"\n",
    "\n",
    "VIZ_COMPONENT_URL = \"http://192.168.1.132:9000\"\n",
    "SIF_SCHEDULER = (\"SCH_SERVICE_NAME\", \"192.168.1.132:30032\")\n",
    "\n",
    "# Minio credentials and database details\n",
    "MINIO_ENDPOINT = \"192.168.1.132:9090\"\n",
    "MINIO_ACCESS_KEY = \"peUyeVUBhKS7DvpFZgJu\"\n",
    "MINIO_SECRET_KEY = \"J5VLWMfzNXBnhrm1kKHmO7DRbnU5XzqUO1iKWJfi\"\n",
    "MINIO_BUCKET = \"models\"\n",
    "\n",
    "# Influx Buckets\n",
    "BUCKETS = [\"1_2_2\", \"1_2_7\", \"1_3_10\", \"1_3_11\", \"1_3_14\", \"1_4_12\", \"1_4_13\"]  \n",
    "BUCKETS_PIR = [\"1_2_2\", \"1_3_11\", \"1_3_14\", \"1_4_13\"]\n",
    "BUCKET_CORRIDOR = \"1_2_2\"\n",
    "BUCKET_BATHROOM = \"1_3_11\"\n",
    "BUCKET_DOOR = \"1_3_14\"\n",
    "BUCKET_BED = \"1_4_13\"\n",
    "\n",
    "pir_buckets = {\n",
    "        \"1_2_2\": \"corridor\",\n",
    "        \"1_3_11\": \"bathroom\",\n",
    "        \"1_3_14\": \"door\",\n",
    "        \"1_4_13\": \"bed\",\n",
    "    }\n",
    "\n",
    "bucket_mapping = {\n",
    "    \"1_2_2\": \"corridor\",\n",
    "    \"1_3_11\": \"bathroom\",\n",
    "    \"1_3_14\": \"door\",\n",
    "    \"1_4_13\": \"bed\",\n",
    "    \"1_2_7\": \"battery_corridor\",\n",
    "    \"1_3_10\": \"battery_bathroom\",\n",
    "\n",
    "}\n",
    "\n",
    "BATTERY_BUCKETS = \"1_2_7\"\n",
    "\n",
    "# ------------------------ INFLUXDB FUNCTIONS ------------------------\n",
    "\n",
    "# Fetch data (inspired by the sif-viz-component fetch data structure)\n",
    "def fetch_data(bucket, measurement, field):\n",
    "\n",
    "    with InfluxDBClient(\n",
    "        url=INFLUX_TOKEN, \n",
    "        org=INFLUX_ORG, \n",
    "        username=INFLUX_USER, \n",
    "        password=INFLUX_PASS, \n",
    "        verify_ssl=False) as client:\n",
    "            p = {\n",
    "                \"_start\": datetime(2024, 11, 28),  # Fetch data starting from January 1, 2023\n",
    "                \"_end\": datetime(2024, 12, 3)   # Fetch data until December 31, 2023\n",
    "            }\n",
    "\n",
    "            query_api = client.query_api()\n",
    "            tables = query_api.query(f'''\n",
    "                                    from(bucket: \"{bucket}\") |> range(start: _start)\n",
    "                                    |> filter(fn: (r) => r[\"_measurement\"] == \"{measurement}\")\n",
    "                                    |> filter(fn: (r) => r[\"_type\"] == \"{\"sensor-value\"}\")\n",
    "                                    |> filter(fn: (r) => r[\"_field\"] == \"{field}\")\n",
    "                                    ''', params=p)          \n",
    "            obj = []\n",
    "            \n",
    "            base_logger.info(tables)\n",
    "            for table in tables:\n",
    "                for record in table.records:\n",
    "                    val = {}\n",
    "                    base_logger.info(record)\n",
    "                    val[\"bucket\"] = bucket\n",
    "                    val[\"timestamp\"] = record[\"_time\"].timestamp() * 1000\n",
    "                    val[\"value\"] = record[\"_value\"]\n",
    "                    if bucket in BATTERY_BUCKETS:\n",
    "                        val[\"field\"] = record[\"_field\"]\n",
    "                        val[\"type\"] = \"battery\"\n",
    "                    else:\n",
    "                        val[\"type\"] = \"sensor\"\n",
    "                    if len(val.keys()) != 0:\n",
    "                        obj.append(val)\n",
    "\n",
    "            return obj\n",
    "\n"
   ]
  },
  {
   "cell_type": "code",
   "execution_count": 102,
   "metadata": {},
   "outputs": [],
   "source": [
    "def fetch_dataBattery_arrangement():\n",
    "                batteryfetch = fetch_data(\"1_3_10\", \"battery\", \"soc\")\n",
    "\n",
    "                for record in batteryfetch:\n",
    "                    record[\"_field\"] = \"1_2_7\"  # BATTERY_BUCKETS\n",
    "\n",
    "                df_battery = pd.DataFrame(batteryfetch)\n",
    "                # df_battery[\"value\"] = df_battery[\"_field\"].map(bucket_mapping)\n",
    "                # df_battery[\"timestamp\"] = pd.to_datetime(df_battery[\"timestamp\"], unit=\"ms\")\n",
    "                # df_battery = df_battery.sort_values(\"timestamp\")\n",
    "\n",
    "                print(df_battery)\n",
    "                return batteryfetch\n"
   ]
  },
  {
   "cell_type": "code",
   "execution_count": 103,
   "metadata": {},
   "outputs": [
    {
     "name": "stdout",
     "output_type": "stream",
     "text": [
      "      bucket     timestamp  value    type _field\n",
      "0     1_3_10  1.730927e+12   63.0  sensor  1_2_7\n",
      "1     1_3_10  1.730927e+12   98.0  sensor  1_2_7\n",
      "2     1_3_10  1.730927e+12   92.0  sensor  1_2_7\n",
      "3     1_3_10  1.730927e+12   99.0  sensor  1_2_7\n",
      "4     1_3_10  1.730927e+12   99.0  sensor  1_2_7\n",
      "...      ...           ...    ...     ...    ...\n",
      "7859  1_3_10  1.733273e+12   95.0  sensor  1_2_7\n",
      "7860  1_3_10  1.733274e+12   95.0  sensor  1_2_7\n",
      "7861  1_3_10  1.733275e+12   95.0  sensor  1_2_7\n",
      "7862  1_3_10  1.737031e+12   79.0  sensor  1_2_7\n",
      "7863  1_3_10  1.737031e+12   99.0  sensor  1_2_7\n",
      "\n",
      "[7864 rows x 5 columns]\n"
     ]
    }
   ],
   "source": [
    "battery= fetch_dataBattery_arrangement()"
   ]
  },
  {
   "cell_type": "code",
   "execution_count": 104,
   "metadata": {},
   "outputs": [
    {
     "data": {
      "text/html": [
       "<a href='data_sorted.txt' target='_blank'>data_sorted.txt</a><br>"
      ],
      "text/plain": [
       "c:\\Users\\mario\\Desktop\\IoT_Cloud\\sif-example-main\\data_sorted.txt"
      ]
     },
     "execution_count": 104,
     "metadata": {},
     "output_type": "execute_result"
    }
   ],
   "source": [
    "from IPython.display import FileLink\n",
    "\n",
    "# Convert the list to a DataFrame\n",
    "battery_df = pd.DataFrame(battery)\n",
    "\n",
    "# Save the DataFrame to a text file\n",
    "battery_df.to_csv('data_sorted.txt', sep='\\t', index=False)\n",
    "\n",
    "# Provide a download link\n",
    "FileLink('data_sorted.txt')"
   ]
  },
  {
   "cell_type": "code",
   "execution_count": 55,
   "metadata": {},
   "outputs": [],
   "source": [
    "def fetch_data_arrangement():   # Makes easier readable values for the model \n",
    "\n",
    "    # Fetch data for each bucket individually\n",
    "    bathroomfetch = fetch_data(BUCKET_BATHROOM, \"PIR\", \"roomID\")\n",
    "    corridorfetch = fetch_data(BUCKET_CORRIDOR, \"PIR\", \"roomID\")\n",
    "    bedfetch = fetch_data(BUCKET_BED, \"PIR\", \"roomID\")\n",
    "    doorfetch = fetch_data(BUCKET_DOOR, \"door\", \"roomID2\")\n",
    "\n",
    "    # Add bucket identifier to each fetched dataset\n",
    "    for record in bathroomfetch:\n",
    "        record[\"bucket\"] = \"1_3_11\"  # BUCKET_BATHROOM\n",
    "    for record in corridorfetch:\n",
    "        record[\"bucket\"] = \"1_2_2\"   # BUCKET_CORRIDOR\n",
    "    for record in bedfetch:\n",
    "        record[\"bucket\"] = \"1_4_13\"  # BUCKET_BED\n",
    "    for record in doorfetch:\n",
    "        record[\"bucket\"] = \"1_3_14\"  # BUCKET_DOOR\n",
    "\n",
    "    # Merge all fetched data\n",
    "    all_fetched = bathroomfetch + corridorfetch + bedfetch + doorfetch\n",
    "\n",
    "    # Create a pandas DataFrame\n",
    "    df = pd.DataFrame(all_fetched)\n",
    "\n",
    "    # Map bucket to value\n",
    "    df[\"value\"] = df[\"bucket\"].map(bucket_mapping)\n",
    "\n",
    "    # Convert timestamp and sort\n",
    "    df[\"timestamp\"] = pd.to_datetime(df[\"timestamp\"], unit=\"ms\")\n",
    "    df = df.sort_values(\"timestamp\")\n",
    "\n",
    "    # Resulting dataframe\n",
    "    print(df)\n",
    "    \n",
    "    return df"
   ]
  },
  {
   "cell_type": "code",
   "execution_count": 56,
   "metadata": {},
   "outputs": [
    {
     "name": "stdout",
     "output_type": "stream",
     "text": [
      "       bucket           timestamp     value    type\n",
      "7626    1_2_2 2024-10-28 10:49:50  corridor  sensor\n",
      "7627    1_2_2 2024-10-28 10:51:05  corridor  sensor\n",
      "7628    1_2_2 2024-10-28 10:51:38  corridor  sensor\n",
      "7629    1_2_2 2024-10-28 10:52:24  corridor  sensor\n",
      "7630    1_2_2 2024-10-28 10:54:01  corridor  sensor\n",
      "...       ...                 ...       ...     ...\n",
      "17460  1_3_14 2024-11-25 02:39:31      door  sensor\n",
      "7624   1_3_11 2024-11-25 02:39:42  bathroom  sensor\n",
      "17461  1_3_14 2024-11-25 02:39:42      door  sensor\n",
      "7625   1_3_11 2024-11-25 02:39:50  bathroom  sensor\n",
      "17462  1_3_14 2024-11-25 02:39:50      door  sensor\n",
      "\n",
      "[17463 rows x 4 columns]\n"
     ]
    }
   ],
   "source": [
    "new_data=fetch_data_arrangement()"
   ]
  },
  {
   "cell_type": "code",
   "execution_count": 32,
   "metadata": {},
   "outputs": [
    {
     "data": {
      "text/html": [
       "<a href='data_sorted.txt' target='_blank'>data_sorted.txt</a><br>"
      ],
      "text/plain": [
       "c:\\Users\\mario\\Desktop\\IoT_Cloud\\sif-example-main\\data_sorted.txt"
      ]
     },
     "execution_count": 32,
     "metadata": {},
     "output_type": "execute_result"
    }
   ],
   "source": [
    "from IPython.display import FileLink\n",
    "\n",
    "# Save the DataFrame to a text file\n",
    "new_data.to_csv('data_sorted.txt', sep='\\t', index=False)\n",
    "\n",
    "# Provide a download link\n",
    "FileLink('data_sorted.txt')"
   ]
  },
  {
   "cell_type": "code",
   "execution_count": 33,
   "metadata": {},
   "outputs": [],
   "source": [
    "def data_sorting(df):   \n",
    "\n",
    "    df_sorted = df.sort_values(by='timestamp')\n",
    "    df_sorted['human_readable_time'] = pd.to_datetime(df_sorted['timestamp'], unit='ms')\n",
    "    print(df_sorted.head(40))\n",
    "\n",
    "    return df_sorted\n"
   ]
  },
  {
   "cell_type": "code",
   "execution_count": 34,
   "metadata": {},
   "outputs": [
    {
     "name": "stdout",
     "output_type": "stream",
     "text": [
      "   bucket           timestamp     value    type human_readable_time\n",
      "1   1_2_2 2024-11-24 18:55:18  corridor  sensor 2024-11-24 18:55:18\n",
      "2  1_4_13 2024-11-24 18:57:36       bed  sensor 2024-11-24 18:57:36\n",
      "0  1_3_11 2024-11-25 02:39:50  bathroom  sensor 2024-11-25 02:39:50\n",
      "3  1_3_14 2024-11-25 02:39:50      door  sensor 2024-11-25 02:39:50\n"
     ]
    }
   ],
   "source": [
    "data_sorted=data_sorting(new_data)"
   ]
  },
  {
   "cell_type": "code",
   "execution_count": 17,
   "metadata": {},
   "outputs": [
    {
     "name": "stdout",
     "output_type": "stream",
     "text": [
      "           room               start                 end  duration\n",
      "0      corridor 2024-10-28 10:49:50 2024-11-06 20:53:37  813827.0\n",
      "1      bathroom 2024-11-06 20:57:17 2024-11-06 20:57:33      16.0\n",
      "2      corridor 2024-11-06 20:57:33 2024-11-06 20:57:33       0.0\n",
      "3      bathroom 2024-11-06 20:57:53 2024-11-06 20:58:14      21.0\n",
      "4      corridor 2024-11-06 20:58:14 2024-11-06 21:14:15     961.0\n",
      "...         ...                 ...                 ...       ...\n",
      "11661      door 2024-11-25 02:39:31 2024-11-25 02:39:31       0.0\n",
      "11662  bathroom 2024-11-25 02:39:42 2024-11-25 02:39:42       0.0\n",
      "11663      door 2024-11-25 02:39:42 2024-11-25 02:39:42       0.0\n",
      "11664  bathroom 2024-11-25 02:39:50 2024-11-25 02:39:50       0.0\n",
      "11665      door 2024-11-25 02:39:50 2024-11-25 02:39:50       0.0\n",
      "\n",
      "[11666 rows x 4 columns]\n"
     ]
    }
   ],
   "source": [
    "#withouy seasonality \n",
    "def calculate_stays(df):\n",
    "    stays = []\n",
    "    current_stay = None\n",
    "\n",
    "    for index, row in df.iterrows():\n",
    "        if current_stay is None:\n",
    "            current_stay = {\n",
    "                'room': row['value'],\n",
    "                'start': row['timestamp'],\n",
    "                'end': row['timestamp']\n",
    "            }\n",
    "        elif row['value'] == current_stay['room']:\n",
    "            current_stay['end'] = row['timestamp']\n",
    "        else:\n",
    "            current_stay['duration'] = (current_stay['end'] - current_stay['start']).total_seconds()\n",
    "            stays.append(current_stay)\n",
    "            current_stay = {\n",
    "                'room': row['value'],\n",
    "                'start': row['timestamp'],\n",
    "                'end': row['timestamp']\n",
    "            }\n",
    "\n",
    "    if current_stay is not None:\n",
    "        current_stay['duration'] = (current_stay['end'] - current_stay['start']).total_seconds()\n",
    "        stays.append(current_stay)\n",
    "\n",
    "    stays_df = pd.DataFrame(stays)\n",
    "    print(stays_df)\n",
    "    return stays_df\n",
    "\n",
    "stays_df = calculate_stays(data_sorted)"
   ]
  },
  {
   "cell_type": "code",
   "execution_count": 18,
   "metadata": {},
   "outputs": [
    {
     "name": "stdout",
     "output_type": "stream",
     "text": [
      "         room  day_of_week  hour_of_day  number_of_visits  average_duration\n",
      "0    bathroom            0            0                15        167.200000\n",
      "166      door            0            0                14          2.642857\n",
      "1    bathroom            0            1                 2       1823.500000\n",
      "167      door            0            1                 2          3.000000\n",
      "2    bathroom            0            2                 9          1.666667\n",
      "..        ...          ...          ...               ...               ...\n",
      "271      door            6           21                40         10.650000\n",
      "108  bathroom            6           22                32         20.312500\n",
      "272      door            6           22                32         65.531250\n",
      "109  bathroom            6           23                40          8.975000\n",
      "273      door            6           23                40         13.300000\n",
      "\n",
      "[274 rows x 5 columns]\n"
     ]
    }
   ],
   "source": [
    "import numpy as np\n",
    "\n",
    "def calculate_seasonal_stays(df):\n",
    "    # Extract day of the week and hour from the start time\n",
    "    df['day_of_week'] = df['start'].dt.dayofweek\n",
    "    df['hour_of_day'] = df['start'].dt.hour\n",
    "\n",
    "    # Group by room, day of the week, and hour of the day\n",
    "    grouped = df.groupby(['room', 'day_of_week', 'hour_of_day'])\n",
    "\n",
    "    # Calculate the number of visits and average duration\n",
    "    seasonal_stats = grouped['duration'].agg(['count', 'mean']).reset_index()\n",
    "    seasonal_stats.rename(columns={'count': 'number_of_visits', 'mean': 'average_duration'}, inplace=True)\n",
    "\n",
    "    # Sort by day of the week and hour of the day\n",
    "    seasonal_stats = seasonal_stats.sort_values(by=['day_of_week', 'hour_of_day'])\n",
    "\n",
    "    print(seasonal_stats)\n",
    "    return seasonal_stats\n",
    "\n",
    "seasonal_stays_df = calculate_seasonal_stays(stays_df)"
   ]
  },
  {
   "cell_type": "code",
   "execution_count": 19,
   "metadata": {},
   "outputs": [
    {
     "data": {
      "text/html": [
       "<a href='seasonal_stays.txt' target='_blank'>seasonal_stays.txt</a><br>"
      ],
      "text/plain": [
       "c:\\Users\\mario\\Desktop\\IoT_Cloud\\sif-example-main\\seasonal_stays.txt"
      ]
     },
     "execution_count": 19,
     "metadata": {},
     "output_type": "execute_result"
    }
   ],
   "source": [
    "from IPython.display import FileLink\n",
    "\n",
    "# Save the seasonal_stays_df DataFrame to a text file\n",
    "seasonal_stays_df.to_csv('seasonal_stays.txt', sep='\\t', index=False)\n",
    "\n",
    "# Provide a download link\n",
    "FileLink('seasonal_stays.txt')"
   ]
  },
  {
   "cell_type": "code",
   "execution_count": 20,
   "metadata": {},
   "outputs": [
    {
     "name": "stdout",
     "output_type": "stream",
     "text": [
      "           room               start                 end  duration  \\\n",
      "3      bathroom 2024-11-06 20:57:53 2024-11-06 20:58:14      21.0   \n",
      "4      corridor 2024-11-06 20:58:14 2024-11-06 21:14:15     961.0   \n",
      "5           bed 2024-11-06 21:17:52 2024-11-06 21:19:21      89.0   \n",
      "9           bed 2024-11-06 21:23:26 2024-11-06 21:24:49      83.0   \n",
      "11          bed 2024-11-06 21:25:10 2024-11-06 21:26:04      54.0   \n",
      "...         ...                 ...                 ...       ...   \n",
      "11646  bathroom 2024-11-25 01:39:36 2024-11-25 02:34:39    3303.0   \n",
      "11648  bathroom 2024-11-25 02:34:47 2024-11-25 02:34:54       7.0   \n",
      "11651      door 2024-11-25 02:35:03 2024-11-25 02:38:55     232.0   \n",
      "11654  bathroom 2024-11-25 02:39:01 2024-11-25 02:39:05       4.0   \n",
      "11658  bathroom 2024-11-25 02:39:14 2024-11-25 02:39:18       4.0   \n",
      "\n",
      "       day_of_week  hour_of_day  number_of_visits  average_duration  \\\n",
      "3                2           20                 2         18.500000   \n",
      "4                2           20                 2        480.500000   \n",
      "5                2           21                 6         41.500000   \n",
      "9                2           21                 6         41.500000   \n",
      "11               2           21                 6         41.500000   \n",
      "...            ...          ...               ...               ...   \n",
      "11646            0            1                 2       1823.500000   \n",
      "11648            0            2                 9          1.666667   \n",
      "11651            0            2                10         24.600000   \n",
      "11654            0            2                 9          1.666667   \n",
      "11658            0            2                 9          1.666667   \n",
      "\n",
      "       is_outlier  \n",
      "3            True  \n",
      "4            True  \n",
      "5            True  \n",
      "9            True  \n",
      "11           True  \n",
      "...           ...  \n",
      "11646        True  \n",
      "11648        True  \n",
      "11651        True  \n",
      "11654        True  \n",
      "11658        True  \n",
      "\n",
      "[2945 rows x 9 columns]\n"
     ]
    }
   ],
   "source": [
    "def identify_outliers(df, seasonal_stats):\n",
    "    # Merge the original dataframe with the seasonal statistics\n",
    "    merged_df = df.merge(seasonal_stats, on=['room', 'day_of_week', 'hour_of_day'], how='left')\n",
    "\n",
    "    # Identify outliers where the duration is longer than the average duration\n",
    "    merged_df['is_outlier'] = merged_df['duration'] > merged_df['average_duration']\n",
    "\n",
    "    # Filter out the outliers\n",
    "    outliers_df = merged_df[merged_df['is_outlier']]\n",
    "\n",
    "    print(outliers_df)\n",
    "    return outliers_df\n",
    "\n",
    "outliers_df = identify_outliers(stays_df, seasonal_stays_df)"
   ]
  },
  {
   "cell_type": "code",
   "execution_count": 21,
   "metadata": {},
   "outputs": [],
   "source": [
    "\n",
    "async def CreateOccupancyModelFunction():\n",
    "   #base_logger.info(\"Function ocupancy_model_creation called.\")\n",
    "\n",
    "    # base_logger.info(\"Function create occupancy model called.\")\n",
    "    # data_recieved = await request.json()\n",
    "    # base_logger.info(f\"Function create_occupancy_model_function received data: {data_recieved}\")\n",
    "\n",
    "    #base_logger.info(\"Fetching data\")\n",
    "    new_data=fetch_data_arrangement()\n",
    "    data_sorted=data_sorting(new_data)\n",
    "\n",
    "   # base_logger.info(\"Calculating average times\")\n",
    "    stays_df = calculate_stays(data_sorted)  \n",
    "    seasonal_stays_df = calculate_seasonal_stays(stays_df)\n",
    "\n",
    "    #base_logger.info(\"Calculating outliers\")\n",
    "    outliers_df = identify_outliers(stays_df, seasonal_stays_df)\n",
    "\n",
    "    # base_logger.info(\"Saving ocupancy model to minio\")\n",
    "    # save_model_minio(time_stats)  # cambia time_stats por tu output del modelo final \n",
    "    # load_latest_model_minio()   \n",
    "    # base_logger.info(\"model trained and stored\")\n",
    "\n",
    "    return {\"status\": 200, \"message\": \"Model trained and stored\"}"
   ]
  },
  {
   "cell_type": "code",
   "execution_count": 22,
   "metadata": {},
   "outputs": [
    {
     "name": "stdout",
     "output_type": "stream",
     "text": [
      "       bucket           timestamp     value\n",
      "7626    1_2_2 2024-10-28 10:49:50  corridor\n",
      "7627    1_2_2 2024-10-28 10:51:05  corridor\n",
      "7628    1_2_2 2024-10-28 10:51:38  corridor\n",
      "7629    1_2_2 2024-10-28 10:52:24  corridor\n",
      "7630    1_2_2 2024-10-28 10:54:01  corridor\n",
      "...       ...                 ...       ...\n",
      "17460  1_3_14 2024-11-25 02:39:31      door\n",
      "7624   1_3_11 2024-11-25 02:39:42  bathroom\n",
      "17461  1_3_14 2024-11-25 02:39:42      door\n",
      "7625   1_3_11 2024-11-25 02:39:50  bathroom\n",
      "17462  1_3_14 2024-11-25 02:39:50      door\n",
      "\n",
      "[17463 rows x 3 columns]\n",
      "     bucket           timestamp     value human_readable_time\n",
      "7626  1_2_2 2024-10-28 10:49:50  corridor 2024-10-28 10:49:50\n",
      "7627  1_2_2 2024-10-28 10:51:05  corridor 2024-10-28 10:51:05\n",
      "7628  1_2_2 2024-10-28 10:51:38  corridor 2024-10-28 10:51:38\n",
      "7629  1_2_2 2024-10-28 10:52:24  corridor 2024-10-28 10:52:24\n",
      "7630  1_2_2 2024-10-28 10:54:01  corridor 2024-10-28 10:54:01\n",
      "7631  1_2_2 2024-10-28 10:54:19  corridor 2024-10-28 10:54:19\n",
      "7632  1_2_2 2024-10-28 10:54:55  corridor 2024-10-28 10:54:55\n",
      "7633  1_2_2 2024-10-28 10:59:15  corridor 2024-10-28 10:59:15\n",
      "7634  1_2_2 2024-10-28 11:01:20  corridor 2024-10-28 11:01:20\n",
      "7635  1_2_2 2024-10-28 11:02:20  corridor 2024-10-28 11:02:20\n",
      "7636  1_2_2 2024-10-30 21:51:19  corridor 2024-10-30 21:51:19\n",
      "7637  1_2_2 2024-10-30 21:51:33  corridor 2024-10-30 21:51:33\n",
      "7638  1_2_2 2024-10-30 21:51:45  corridor 2024-10-30 21:51:45\n",
      "7639  1_2_2 2024-10-30 21:52:01  corridor 2024-10-30 21:52:01\n",
      "7640  1_2_2 2024-10-30 21:52:11  corridor 2024-10-30 21:52:11\n",
      "7641  1_2_2 2024-10-30 21:52:18  corridor 2024-10-30 21:52:18\n",
      "7642  1_2_2 2024-10-30 21:52:43  corridor 2024-10-30 21:52:43\n",
      "7643  1_2_2 2024-10-30 21:52:50  corridor 2024-10-30 21:52:50\n",
      "7644  1_2_2 2024-10-30 21:52:57  corridor 2024-10-30 21:52:57\n",
      "7645  1_2_2 2024-10-30 21:53:07  corridor 2024-10-30 21:53:07\n",
      "7646  1_2_2 2024-10-30 21:53:18  corridor 2024-10-30 21:53:18\n",
      "7647  1_2_2 2024-10-30 21:53:25  corridor 2024-10-30 21:53:25\n",
      "7648  1_2_2 2024-10-30 21:53:41  corridor 2024-10-30 21:53:41\n",
      "7649  1_2_2 2024-10-30 21:53:51  corridor 2024-10-30 21:53:51\n",
      "7650  1_2_2 2024-10-30 21:54:04  corridor 2024-10-30 21:54:04\n",
      "7651  1_2_2 2024-10-30 21:54:11  corridor 2024-10-30 21:54:11\n",
      "7652  1_2_2 2024-10-30 21:54:16  corridor 2024-10-30 21:54:16\n",
      "7653  1_2_2 2024-10-30 21:54:27  corridor 2024-10-30 21:54:27\n",
      "7654  1_2_2 2024-10-30 21:54:37  corridor 2024-10-30 21:54:37\n",
      "7655  1_2_2 2024-10-30 21:54:49  corridor 2024-10-30 21:54:49\n",
      "7656  1_2_2 2024-10-30 21:55:10  corridor 2024-10-30 21:55:10\n",
      "7657  1_2_2 2024-10-30 21:55:19  corridor 2024-10-30 21:55:19\n",
      "7658  1_2_2 2024-10-30 21:55:26  corridor 2024-10-30 21:55:26\n",
      "7659  1_2_2 2024-10-30 21:55:38  corridor 2024-10-30 21:55:38\n",
      "7660  1_2_2 2024-10-30 21:55:45  corridor 2024-10-30 21:55:45\n",
      "7661  1_2_2 2024-10-30 21:56:25  corridor 2024-10-30 21:56:25\n",
      "7662  1_2_2 2024-10-30 21:56:32  corridor 2024-10-30 21:56:32\n",
      "7663  1_2_2 2024-10-30 21:56:40  corridor 2024-10-30 21:56:40\n",
      "7664  1_2_2 2024-10-30 21:57:09  corridor 2024-10-30 21:57:09\n",
      "7665  1_2_2 2024-10-30 21:57:16  corridor 2024-10-30 21:57:16\n",
      "           room               start                 end  duration\n",
      "0      corridor 2024-10-28 10:49:50 2024-11-06 20:53:37  813827.0\n",
      "1      bathroom 2024-11-06 20:57:17 2024-11-06 20:57:33      16.0\n",
      "2      corridor 2024-11-06 20:57:33 2024-11-06 20:57:33       0.0\n",
      "3      bathroom 2024-11-06 20:57:53 2024-11-06 20:58:14      21.0\n",
      "4      corridor 2024-11-06 20:58:14 2024-11-06 21:14:15     961.0\n",
      "...         ...                 ...                 ...       ...\n",
      "11661      door 2024-11-25 02:39:31 2024-11-25 02:39:31       0.0\n",
      "11662  bathroom 2024-11-25 02:39:42 2024-11-25 02:39:42       0.0\n",
      "11663      door 2024-11-25 02:39:42 2024-11-25 02:39:42       0.0\n",
      "11664  bathroom 2024-11-25 02:39:50 2024-11-25 02:39:50       0.0\n",
      "11665      door 2024-11-25 02:39:50 2024-11-25 02:39:50       0.0\n",
      "\n",
      "[11666 rows x 4 columns]\n",
      "         room  day_of_week  hour_of_day  number_of_visits  average_duration\n",
      "0    bathroom            0            0                15        167.200000\n",
      "166      door            0            0                14          2.642857\n",
      "1    bathroom            0            1                 2       1823.500000\n",
      "167      door            0            1                 2          3.000000\n",
      "2    bathroom            0            2                 9          1.666667\n",
      "..        ...          ...          ...               ...               ...\n",
      "271      door            6           21                40         10.650000\n",
      "108  bathroom            6           22                32         20.312500\n",
      "272      door            6           22                32         65.531250\n",
      "109  bathroom            6           23                40          8.975000\n",
      "273      door            6           23                40         13.300000\n",
      "\n",
      "[274 rows x 5 columns]\n",
      "           room               start                 end  duration  \\\n",
      "3      bathroom 2024-11-06 20:57:53 2024-11-06 20:58:14      21.0   \n",
      "4      corridor 2024-11-06 20:58:14 2024-11-06 21:14:15     961.0   \n",
      "5           bed 2024-11-06 21:17:52 2024-11-06 21:19:21      89.0   \n",
      "9           bed 2024-11-06 21:23:26 2024-11-06 21:24:49      83.0   \n",
      "11          bed 2024-11-06 21:25:10 2024-11-06 21:26:04      54.0   \n",
      "...         ...                 ...                 ...       ...   \n",
      "11646  bathroom 2024-11-25 01:39:36 2024-11-25 02:34:39    3303.0   \n",
      "11648  bathroom 2024-11-25 02:34:47 2024-11-25 02:34:54       7.0   \n",
      "11651      door 2024-11-25 02:35:03 2024-11-25 02:38:55     232.0   \n",
      "11654  bathroom 2024-11-25 02:39:01 2024-11-25 02:39:05       4.0   \n",
      "11658  bathroom 2024-11-25 02:39:14 2024-11-25 02:39:18       4.0   \n",
      "\n",
      "       day_of_week  hour_of_day  number_of_visits  average_duration  \\\n",
      "3                2           20                 2         18.500000   \n",
      "4                2           20                 2        480.500000   \n",
      "5                2           21                 6         41.500000   \n",
      "9                2           21                 6         41.500000   \n",
      "11               2           21                 6         41.500000   \n",
      "...            ...          ...               ...               ...   \n",
      "11646            0            1                 2       1823.500000   \n",
      "11648            0            2                 9          1.666667   \n",
      "11651            0            2                10         24.600000   \n",
      "11654            0            2                 9          1.666667   \n",
      "11658            0            2                 9          1.666667   \n",
      "\n",
      "       is_outlier  \n",
      "3            True  \n",
      "4            True  \n",
      "5            True  \n",
      "9            True  \n",
      "11           True  \n",
      "...           ...  \n",
      "11646        True  \n",
      "11648        True  \n",
      "11651        True  \n",
      "11654        True  \n",
      "11658        True  \n",
      "\n",
      "[2945 rows x 9 columns]\n"
     ]
    },
    {
     "name": "stderr",
     "output_type": "stream",
     "text": [
      "C:\\Users\\mario\\AppData\\Local\\Temp\\ipykernel_18048\\1756240550.py:1: RuntimeWarning: coroutine 'CreateOccupancyModelFunction' was never awaited\n",
      "  intento = await CreateOccupancyModelFunction()\n",
      "RuntimeWarning: Enable tracemalloc to get the object allocation traceback\n"
     ]
    }
   ],
   "source": [
    "intento = await CreateOccupancyModelFunction()\n"
   ]
  }
 ],
 "metadata": {
  "kernelspec": {
   "display_name": "base",
   "language": "python",
   "name": "python3"
  },
  "language_info": {
   "codemirror_mode": {
    "name": "ipython",
    "version": 3
   },
   "file_extension": ".py",
   "mimetype": "text/x-python",
   "name": "python",
   "nbconvert_exporter": "python",
   "pygments_lexer": "ipython3",
   "version": "3.12.4"
  }
 },
 "nbformat": 4,
 "nbformat_minor": 2
}
